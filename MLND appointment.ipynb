{
 "cells": [
  {
   "cell_type": "markdown",
   "metadata": {},
   "source": [
    "## MLND capstone"
   ]
  },
  {
   "cell_type": "code",
   "execution_count": 1,
   "metadata": {},
   "outputs": [],
   "source": [
    "import pandas as pd\n",
    "from sklearn.tree import DecisionTreeClassifier\n",
    "from sklearn.model_selection import train_test_split\n",
    "from sklearn import metrics\n",
    "from IPython.display import display\n",
    "import numpy as np\n",
    "import seaborn as sns\n",
    "import matplotlib.pyplot as plt\n",
    "from matplotlib import pylab\n",
    "import matplotlib\n",
    "matplotlib.style.use('ggplot')\n",
    "from sklearn.ensemble import RandomForestClassifier\n",
    "from sklearn.preprocessing import StandardScaler\n",
    "from sklearn.ensemble import AdaBoostClassifier\n",
    "from sklearn.naive_bayes import GaussianNB\n",
    "from sklearn.model_selection import GridSearchCV\n",
    "from sklearn.linear_model import LogisticRegression\n",
    "np.random.seed(0)"
   ]
  },
  {
   "cell_type": "markdown",
   "metadata": {},
   "source": [
    "## Data loading"
   ]
  },
  {
   "cell_type": "code",
   "execution_count": 2,
   "metadata": {},
   "outputs": [],
   "source": [
    "#load data\n",
    "df=pd.read_csv(\"appointment.csv\")"
   ]
  },
  {
   "cell_type": "markdown",
   "metadata": {},
   "source": [
    "## Data Exploration and preprocessing"
   ]
  },
  {
   "cell_type": "code",
   "execution_count": 3,
   "metadata": {},
   "outputs": [
    {
     "data": {
      "text/html": [
       "<div>\n",
       "<style scoped>\n",
       "    .dataframe tbody tr th:only-of-type {\n",
       "        vertical-align: middle;\n",
       "    }\n",
       "\n",
       "    .dataframe tbody tr th {\n",
       "        vertical-align: top;\n",
       "    }\n",
       "\n",
       "    .dataframe thead th {\n",
       "        text-align: right;\n",
       "    }\n",
       "</style>\n",
       "<table border=\"1\" class=\"dataframe\">\n",
       "  <thead>\n",
       "    <tr style=\"text-align: right;\">\n",
       "      <th></th>\n",
       "      <th>PatientId</th>\n",
       "      <th>AppointmentID</th>\n",
       "      <th>Gender</th>\n",
       "      <th>ScheduledDay</th>\n",
       "      <th>AppointmentDay</th>\n",
       "      <th>Age</th>\n",
       "      <th>Neighbourhood</th>\n",
       "      <th>Scholarship</th>\n",
       "      <th>Hipertension</th>\n",
       "      <th>Diabetes</th>\n",
       "      <th>Alcoholism</th>\n",
       "      <th>Handcap</th>\n",
       "      <th>SMS_received</th>\n",
       "      <th>No-show</th>\n",
       "    </tr>\n",
       "  </thead>\n",
       "  <tbody>\n",
       "    <tr>\n",
       "      <th>0</th>\n",
       "      <td>2.987250e+13</td>\n",
       "      <td>5642903</td>\n",
       "      <td>F</td>\n",
       "      <td>2016-04-29T18:38:08Z</td>\n",
       "      <td>2016-04-29T00:00:00Z</td>\n",
       "      <td>62</td>\n",
       "      <td>JARDIM DA PENHA</td>\n",
       "      <td>0</td>\n",
       "      <td>1</td>\n",
       "      <td>0</td>\n",
       "      <td>0</td>\n",
       "      <td>0</td>\n",
       "      <td>0</td>\n",
       "      <td>No</td>\n",
       "    </tr>\n",
       "    <tr>\n",
       "      <th>1</th>\n",
       "      <td>5.589978e+14</td>\n",
       "      <td>5642503</td>\n",
       "      <td>M</td>\n",
       "      <td>2016-04-29T16:08:27Z</td>\n",
       "      <td>2016-04-29T00:00:00Z</td>\n",
       "      <td>56</td>\n",
       "      <td>JARDIM DA PENHA</td>\n",
       "      <td>0</td>\n",
       "      <td>0</td>\n",
       "      <td>0</td>\n",
       "      <td>0</td>\n",
       "      <td>0</td>\n",
       "      <td>0</td>\n",
       "      <td>No</td>\n",
       "    </tr>\n",
       "    <tr>\n",
       "      <th>2</th>\n",
       "      <td>4.262962e+12</td>\n",
       "      <td>5642549</td>\n",
       "      <td>F</td>\n",
       "      <td>2016-04-29T16:19:04Z</td>\n",
       "      <td>2016-04-29T00:00:00Z</td>\n",
       "      <td>62</td>\n",
       "      <td>MATA DA PRAIA</td>\n",
       "      <td>0</td>\n",
       "      <td>0</td>\n",
       "      <td>0</td>\n",
       "      <td>0</td>\n",
       "      <td>0</td>\n",
       "      <td>0</td>\n",
       "      <td>No</td>\n",
       "    </tr>\n",
       "    <tr>\n",
       "      <th>3</th>\n",
       "      <td>8.679512e+11</td>\n",
       "      <td>5642828</td>\n",
       "      <td>F</td>\n",
       "      <td>2016-04-29T17:29:31Z</td>\n",
       "      <td>2016-04-29T00:00:00Z</td>\n",
       "      <td>8</td>\n",
       "      <td>PONTAL DE CAMBURI</td>\n",
       "      <td>0</td>\n",
       "      <td>0</td>\n",
       "      <td>0</td>\n",
       "      <td>0</td>\n",
       "      <td>0</td>\n",
       "      <td>0</td>\n",
       "      <td>No</td>\n",
       "    </tr>\n",
       "    <tr>\n",
       "      <th>4</th>\n",
       "      <td>8.841186e+12</td>\n",
       "      <td>5642494</td>\n",
       "      <td>F</td>\n",
       "      <td>2016-04-29T16:07:23Z</td>\n",
       "      <td>2016-04-29T00:00:00Z</td>\n",
       "      <td>56</td>\n",
       "      <td>JARDIM DA PENHA</td>\n",
       "      <td>0</td>\n",
       "      <td>1</td>\n",
       "      <td>1</td>\n",
       "      <td>0</td>\n",
       "      <td>0</td>\n",
       "      <td>0</td>\n",
       "      <td>No</td>\n",
       "    </tr>\n",
       "  </tbody>\n",
       "</table>\n",
       "</div>"
      ],
      "text/plain": [
       "      PatientId  AppointmentID Gender          ScheduledDay  \\\n",
       "0  2.987250e+13        5642903      F  2016-04-29T18:38:08Z   \n",
       "1  5.589978e+14        5642503      M  2016-04-29T16:08:27Z   \n",
       "2  4.262962e+12        5642549      F  2016-04-29T16:19:04Z   \n",
       "3  8.679512e+11        5642828      F  2016-04-29T17:29:31Z   \n",
       "4  8.841186e+12        5642494      F  2016-04-29T16:07:23Z   \n",
       "\n",
       "         AppointmentDay  Age      Neighbourhood  Scholarship  Hipertension  \\\n",
       "0  2016-04-29T00:00:00Z   62    JARDIM DA PENHA            0             1   \n",
       "1  2016-04-29T00:00:00Z   56    JARDIM DA PENHA            0             0   \n",
       "2  2016-04-29T00:00:00Z   62      MATA DA PRAIA            0             0   \n",
       "3  2016-04-29T00:00:00Z    8  PONTAL DE CAMBURI            0             0   \n",
       "4  2016-04-29T00:00:00Z   56    JARDIM DA PENHA            0             1   \n",
       "\n",
       "   Diabetes  Alcoholism  Handcap  SMS_received No-show  \n",
       "0         0           0        0             0      No  \n",
       "1         0           0        0             0      No  \n",
       "2         0           0        0             0      No  \n",
       "3         0           0        0             0      No  \n",
       "4         1           0        0             0      No  "
      ]
     },
     "execution_count": 3,
     "metadata": {},
     "output_type": "execute_result"
    }
   ],
   "source": [
    "df.head()"
   ]
  },
  {
   "cell_type": "code",
   "execution_count": 4,
   "metadata": {},
   "outputs": [
    {
     "data": {
      "text/plain": [
       "Index(['PatientId', 'AppointmentID', 'Gender', 'ScheduledDay',\n",
       "       'AppointmentDay', 'Age', 'Neighbourhood', 'Scholarship', 'Hipertension',\n",
       "       'Diabetes', 'Alcoholism', 'Handcap', 'SMS_received', 'No-show'],\n",
       "      dtype='object')"
      ]
     },
     "execution_count": 4,
     "metadata": {},
     "output_type": "execute_result"
    }
   ],
   "source": [
    "df.columns"
   ]
  },
  {
   "cell_type": "code",
   "execution_count": 5,
   "metadata": {},
   "outputs": [],
   "source": [
    "#rename columns\n",
    "df.rename(columns={\n",
    "    'Hipertension':'Hypertension',\n",
    "    'Handcap':'Handicap'\n",
    "},inplace=True)"
   ]
  },
  {
   "cell_type": "code",
   "execution_count": 6,
   "metadata": {},
   "outputs": [
    {
     "data": {
      "text/html": [
       "<div>\n",
       "<style scoped>\n",
       "    .dataframe tbody tr th:only-of-type {\n",
       "        vertical-align: middle;\n",
       "    }\n",
       "\n",
       "    .dataframe tbody tr th {\n",
       "        vertical-align: top;\n",
       "    }\n",
       "\n",
       "    .dataframe thead th {\n",
       "        text-align: right;\n",
       "    }\n",
       "</style>\n",
       "<table border=\"1\" class=\"dataframe\">\n",
       "  <thead>\n",
       "    <tr style=\"text-align: right;\">\n",
       "      <th></th>\n",
       "      <th>PatientId</th>\n",
       "      <th>AppointmentID</th>\n",
       "      <th>Age</th>\n",
       "      <th>Scholarship</th>\n",
       "      <th>Hypertension</th>\n",
       "      <th>Diabetes</th>\n",
       "      <th>Alcoholism</th>\n",
       "      <th>Handicap</th>\n",
       "      <th>SMS_received</th>\n",
       "    </tr>\n",
       "  </thead>\n",
       "  <tbody>\n",
       "    <tr>\n",
       "      <th>count</th>\n",
       "      <td>1.105270e+05</td>\n",
       "      <td>1.105270e+05</td>\n",
       "      <td>110527.000000</td>\n",
       "      <td>110527.000000</td>\n",
       "      <td>110527.000000</td>\n",
       "      <td>110527.000000</td>\n",
       "      <td>110527.000000</td>\n",
       "      <td>110527.000000</td>\n",
       "      <td>110527.000000</td>\n",
       "    </tr>\n",
       "    <tr>\n",
       "      <th>mean</th>\n",
       "      <td>1.474963e+14</td>\n",
       "      <td>5.675305e+06</td>\n",
       "      <td>37.088874</td>\n",
       "      <td>0.098266</td>\n",
       "      <td>0.197246</td>\n",
       "      <td>0.071865</td>\n",
       "      <td>0.030400</td>\n",
       "      <td>0.022248</td>\n",
       "      <td>0.321026</td>\n",
       "    </tr>\n",
       "    <tr>\n",
       "      <th>std</th>\n",
       "      <td>2.560949e+14</td>\n",
       "      <td>7.129575e+04</td>\n",
       "      <td>23.110205</td>\n",
       "      <td>0.297675</td>\n",
       "      <td>0.397921</td>\n",
       "      <td>0.258265</td>\n",
       "      <td>0.171686</td>\n",
       "      <td>0.161543</td>\n",
       "      <td>0.466873</td>\n",
       "    </tr>\n",
       "    <tr>\n",
       "      <th>min</th>\n",
       "      <td>3.921784e+04</td>\n",
       "      <td>5.030230e+06</td>\n",
       "      <td>-1.000000</td>\n",
       "      <td>0.000000</td>\n",
       "      <td>0.000000</td>\n",
       "      <td>0.000000</td>\n",
       "      <td>0.000000</td>\n",
       "      <td>0.000000</td>\n",
       "      <td>0.000000</td>\n",
       "    </tr>\n",
       "    <tr>\n",
       "      <th>25%</th>\n",
       "      <td>4.172614e+12</td>\n",
       "      <td>5.640286e+06</td>\n",
       "      <td>18.000000</td>\n",
       "      <td>0.000000</td>\n",
       "      <td>0.000000</td>\n",
       "      <td>0.000000</td>\n",
       "      <td>0.000000</td>\n",
       "      <td>0.000000</td>\n",
       "      <td>0.000000</td>\n",
       "    </tr>\n",
       "    <tr>\n",
       "      <th>50%</th>\n",
       "      <td>3.173184e+13</td>\n",
       "      <td>5.680573e+06</td>\n",
       "      <td>37.000000</td>\n",
       "      <td>0.000000</td>\n",
       "      <td>0.000000</td>\n",
       "      <td>0.000000</td>\n",
       "      <td>0.000000</td>\n",
       "      <td>0.000000</td>\n",
       "      <td>0.000000</td>\n",
       "    </tr>\n",
       "    <tr>\n",
       "      <th>75%</th>\n",
       "      <td>9.439172e+13</td>\n",
       "      <td>5.725524e+06</td>\n",
       "      <td>55.000000</td>\n",
       "      <td>0.000000</td>\n",
       "      <td>0.000000</td>\n",
       "      <td>0.000000</td>\n",
       "      <td>0.000000</td>\n",
       "      <td>0.000000</td>\n",
       "      <td>1.000000</td>\n",
       "    </tr>\n",
       "    <tr>\n",
       "      <th>max</th>\n",
       "      <td>9.999816e+14</td>\n",
       "      <td>5.790484e+06</td>\n",
       "      <td>115.000000</td>\n",
       "      <td>1.000000</td>\n",
       "      <td>1.000000</td>\n",
       "      <td>1.000000</td>\n",
       "      <td>1.000000</td>\n",
       "      <td>4.000000</td>\n",
       "      <td>1.000000</td>\n",
       "    </tr>\n",
       "  </tbody>\n",
       "</table>\n",
       "</div>"
      ],
      "text/plain": [
       "          PatientId  AppointmentID            Age    Scholarship  \\\n",
       "count  1.105270e+05   1.105270e+05  110527.000000  110527.000000   \n",
       "mean   1.474963e+14   5.675305e+06      37.088874       0.098266   \n",
       "std    2.560949e+14   7.129575e+04      23.110205       0.297675   \n",
       "min    3.921784e+04   5.030230e+06      -1.000000       0.000000   \n",
       "25%    4.172614e+12   5.640286e+06      18.000000       0.000000   \n",
       "50%    3.173184e+13   5.680573e+06      37.000000       0.000000   \n",
       "75%    9.439172e+13   5.725524e+06      55.000000       0.000000   \n",
       "max    9.999816e+14   5.790484e+06     115.000000       1.000000   \n",
       "\n",
       "        Hypertension       Diabetes     Alcoholism       Handicap  \\\n",
       "count  110527.000000  110527.000000  110527.000000  110527.000000   \n",
       "mean        0.197246       0.071865       0.030400       0.022248   \n",
       "std         0.397921       0.258265       0.171686       0.161543   \n",
       "min         0.000000       0.000000       0.000000       0.000000   \n",
       "25%         0.000000       0.000000       0.000000       0.000000   \n",
       "50%         0.000000       0.000000       0.000000       0.000000   \n",
       "75%         0.000000       0.000000       0.000000       0.000000   \n",
       "max         1.000000       1.000000       1.000000       4.000000   \n",
       "\n",
       "        SMS_received  \n",
       "count  110527.000000  \n",
       "mean        0.321026  \n",
       "std         0.466873  \n",
       "min         0.000000  \n",
       "25%         0.000000  \n",
       "50%         0.000000  \n",
       "75%         1.000000  \n",
       "max         1.000000  "
      ]
     },
     "execution_count": 6,
     "metadata": {},
     "output_type": "execute_result"
    }
   ],
   "source": [
    "df.describe()"
   ]
  },
  {
   "cell_type": "code",
   "execution_count": 7,
   "metadata": {},
   "outputs": [
    {
     "data": {
      "text/plain": [
       "0    62\n",
       "1    56\n",
       "2    62\n",
       "3     8\n",
       "4    56\n",
       "Name: Age, dtype: int64"
      ]
     },
     "metadata": {},
     "output_type": "display_data"
    },
    {
     "data": {
      "text/plain": [
       "0    5642903\n",
       "1    5642503\n",
       "2    5642549\n",
       "3    5642828\n",
       "4    5642494\n",
       "Name: AppointmentID, dtype: int64"
      ]
     },
     "metadata": {},
     "output_type": "display_data"
    },
    {
     "data": {
      "text/plain": [
       "0    2016-04-29T00:00:00Z\n",
       "1    2016-04-29T00:00:00Z\n",
       "2    2016-04-29T00:00:00Z\n",
       "3    2016-04-29T00:00:00Z\n",
       "4    2016-04-29T00:00:00Z\n",
       "Name: AppointmentDay, dtype: object"
      ]
     },
     "metadata": {},
     "output_type": "display_data"
    }
   ],
   "source": [
    "display(df.Age.head())\n",
    "display(df.AppointmentID.head())\n",
    "display(df.AppointmentDay.head())"
   ]
  },
  {
   "cell_type": "markdown",
   "metadata": {},
   "source": [
    "** For convenience convert `AppointmentDay` and `ScheduledDay` to datetime type**. "
   ]
  },
  {
   "cell_type": "code",
   "execution_count": 8,
   "metadata": {},
   "outputs": [],
   "source": [
    "df.AppointmentDay = df.AppointmentDay.apply(np.datetime64)\n",
    "df.ScheduledDay=df.ScheduledDay.apply(np.datetime64)"
   ]
  },
  {
   "cell_type": "code",
   "execution_count": 9,
   "metadata": {},
   "outputs": [
    {
     "data": {
      "text/plain": [
       "0   2016-04-29\n",
       "1   2016-04-29\n",
       "2   2016-04-29\n",
       "3   2016-04-29\n",
       "4   2016-04-29\n",
       "Name: AppointmentDay, dtype: datetime64[ns]"
      ]
     },
     "metadata": {},
     "output_type": "display_data"
    },
    {
     "data": {
      "text/plain": [
       "0   2016-04-29 18:38:08\n",
       "1   2016-04-29 16:08:27\n",
       "2   2016-04-29 16:19:04\n",
       "3   2016-04-29 17:29:31\n",
       "4   2016-04-29 16:07:23\n",
       "Name: ScheduledDay, dtype: datetime64[ns]"
      ]
     },
     "metadata": {},
     "output_type": "display_data"
    }
   ],
   "source": [
    "display(df.AppointmentDay.head())\n",
    "display(df.ScheduledDay.head())"
   ]
  },
  {
   "cell_type": "markdown",
   "metadata": {},
   "source": [
    "Note: we see that `AppointmentDay` has the time portion vanished since the time is set to `00:00:00`."
   ]
  },
  {
   "cell_type": "markdown",
   "metadata": {},
   "source": [
    "** Checking for all error in data and NaN **"
   ]
  },
  {
   "cell_type": "code",
   "execution_count": 10,
   "metadata": {},
   "outputs": [
    {
     "name": "stdout",
     "output_type": "stream",
     "text": [
      "Age: [-1, 0, 1, 2, 3, 4, 5, 6, 7, 8, 9, 10, 11, 12, 13, 14, 15, 16, 17, 18, 19, 20, 21, 22, 23, 24, 25, 26, 27, 28, 29, 30, 31, 32, 33, 34, 35, 36, 37, 38, 39, 40, 41, 42, 43, 44, 45, 46, 47, 48, 49, 50, 51, 52, 53, 54, 55, 56, 57, 58, 59, 60, 61, 62, 63, 64, 65, 66, 67, 68, 69, 70, 71, 72, 73, 74, 75, 76, 77, 78, 79, 80, 81, 82, 83, 84, 85, 86, 87, 88, 89, 90, 91, 92, 93, 94, 95, 96, 97, 98, 99, 100, 102, 115]\n",
      "Gender: ['F' 'M']\n",
      "No-show: ['No' 'Yes']\n",
      "Diabetes: [0 1]\n",
      "Alcoholism: [0 1]\n",
      "Hypertension: [1 0]\n",
      "Handicap: [0 1 2 3 4]\n",
      "Scholarship: [0 1]\n",
      "SMS_received: [0 1]\n"
     ]
    }
   ],
   "source": [
    "print('Age:',sorted(df.Age.unique()))\n",
    "print('Gender:',df.Gender.unique())\n",
    "print('No-show:',df['No-show'].unique())\n",
    "print('Diabetes:',df.Diabetes.unique())\n",
    "print('Alcoholism:',df.Alcoholism.unique())\n",
    "print('Hypertension:',df.Hypertension.unique())\n",
    "print('Handicap:',df.Handicap.unique())\n",
    "print('Scholarship:',df.Scholarship.unique())\n",
    "print('SMS_received:',df.SMS_received.unique())"
   ]
  },
  {
   "cell_type": "markdown",
   "metadata": {},
   "source": [
    "From the previous cell we can see that we don't have any NaN entries. But we do have inappropriate values for `Age` (-1). I am going to consider age below 0 as wrong entries and remove those records."
   ]
  },
  {
   "cell_type": "code",
   "execution_count": 11,
   "metadata": {},
   "outputs": [],
   "source": [
    "#remove records with age less than 0\n",
    "df=df[(df.Age>=0)]"
   ]
  },
  {
   "cell_type": "markdown",
   "metadata": {},
   "source": [
    "**Looking at the given features, we can think of another feature called `wait_time`.   The `wait_time` column represents the number of days between `AppointmentDay` and `ScheduledDay`. ** "
   ]
  },
  {
   "cell_type": "code",
   "execution_count": 12,
   "metadata": {
    "scrolled": true
   },
   "outputs": [
    {
     "data": {
      "text/html": [
       "<div>\n",
       "<style scoped>\n",
       "    .dataframe tbody tr th:only-of-type {\n",
       "        vertical-align: middle;\n",
       "    }\n",
       "\n",
       "    .dataframe tbody tr th {\n",
       "        vertical-align: top;\n",
       "    }\n",
       "\n",
       "    .dataframe thead th {\n",
       "        text-align: right;\n",
       "    }\n",
       "</style>\n",
       "<table border=\"1\" class=\"dataframe\">\n",
       "  <thead>\n",
       "    <tr style=\"text-align: right;\">\n",
       "      <th></th>\n",
       "      <th>ScheduledDay</th>\n",
       "      <th>AppointmentDay</th>\n",
       "      <th>wait_time</th>\n",
       "    </tr>\n",
       "  </thead>\n",
       "  <tbody>\n",
       "    <tr>\n",
       "      <th>0</th>\n",
       "      <td>2016-04-29 18:38:08</td>\n",
       "      <td>2016-04-29</td>\n",
       "      <td>0</td>\n",
       "    </tr>\n",
       "    <tr>\n",
       "      <th>1</th>\n",
       "      <td>2016-04-29 16:08:27</td>\n",
       "      <td>2016-04-29</td>\n",
       "      <td>0</td>\n",
       "    </tr>\n",
       "    <tr>\n",
       "      <th>2</th>\n",
       "      <td>2016-04-29 16:19:04</td>\n",
       "      <td>2016-04-29</td>\n",
       "      <td>0</td>\n",
       "    </tr>\n",
       "    <tr>\n",
       "      <th>3</th>\n",
       "      <td>2016-04-29 17:29:31</td>\n",
       "      <td>2016-04-29</td>\n",
       "      <td>0</td>\n",
       "    </tr>\n",
       "    <tr>\n",
       "      <th>4</th>\n",
       "      <td>2016-04-29 16:07:23</td>\n",
       "      <td>2016-04-29</td>\n",
       "      <td>0</td>\n",
       "    </tr>\n",
       "  </tbody>\n",
       "</table>\n",
       "</div>"
      ],
      "text/plain": [
       "         ScheduledDay AppointmentDay  wait_time\n",
       "0 2016-04-29 18:38:08     2016-04-29          0\n",
       "1 2016-04-29 16:08:27     2016-04-29          0\n",
       "2 2016-04-29 16:19:04     2016-04-29          0\n",
       "3 2016-04-29 17:29:31     2016-04-29          0\n",
       "4 2016-04-29 16:07:23     2016-04-29          0"
      ]
     },
     "execution_count": 12,
     "metadata": {},
     "output_type": "execute_result"
    }
   ],
   "source": [
    "#create new feature 'wait_time'\n",
    "df['wait_time']=df['ScheduledDay']-df['AppointmentDay']\n",
    "df['wait_time']=df['wait_time'].apply(abs)\n",
    "df['wait_time']=(df['wait_time'] / np.timedelta64(1, 'D')).astype(int)\n",
    "df[['ScheduledDay','AppointmentDay','wait_time']].head()"
   ]
  },
  {
   "cell_type": "markdown",
   "metadata": {},
   "source": [
    "**Check for outliers in `wait_time`**"
   ]
  },
  {
   "cell_type": "code",
   "execution_count": 13,
   "metadata": {},
   "outputs": [
    {
     "data": {
      "image/png": "[encoded data removed]",
      "text/plain": [
       "<Figure size 432x288 with 1 Axes>"
      ]
     },
     "metadata": {},
     "output_type": "display_data"
    }
   ],
   "source": [
    "sns.stripplot(data = df, y = 'wait_time', jitter = True)\n",
    "plt.show()"
   ]
  },
  {
   "cell_type": "markdown",
   "metadata": {},
   "source": [
    "From the plot above, we see that there are fewer data points above `wait_time` value of `100`. But that is not enough to classify them as outliers. "
   ]
  },
  {
   "cell_type": "code",
   "execution_count": 14,
   "metadata": {
    "scrolled": true
   },
   "outputs": [
    {
     "data": {
      "image/png": "[encoded data removed]",
      "text/plain": [
       "<Figure size 432x288 with 1 Axes>"
      ]
     },
     "metadata": {},
     "output_type": "display_data"
    },
    {
     "data": {
      "image/png": "[encoded data removed]",
      "text/plain": [
       "<Figure size 432x288 with 1 Axes>"
      ]
     },
     "metadata": {},
     "output_type": "display_data"
    },
    {
     "data": {
      "image/png": "[encoded data removed]",
      "text/plain": [
       "<Figure size 432x288 with 1 Axes>"
      ]
     },
     "metadata": {},
     "output_type": "display_data"
    },
    {
     "data": {
      "image/png": "[encoded data removed]",
      "text/plain": [
       "<Figure size 432x288 with 1 Axes>"
      ]
     },
     "metadata": {},
     "output_type": "display_data"
    },
    {
     "data": {
      "image/png": "[encoded data removed]",
      "text/plain": [
       "<Figure size 432x288 with 1 Axes>"
      ]
     },
     "metadata": {},
     "output_type": "display_data"
    },
    {
     "data": {
      "image/png": "[encoded data removed]",
      "text/plain": [
       "<Figure size 432x288 with 1 Axes>"
      ]
     },
     "metadata": {},
     "output_type": "display_data"
    },
    {
     "data": {
      "image/png": "[encoded data removed]",
      "text/plain": [
       "<Figure size 432x288 with 1 Axes>"
      ]
     },
     "metadata": {},
     "output_type": "display_data"
    },
    {
     "data": {
      "image/png": "[encoded data removed]",
      "text/plain": [
       "<Figure size 432x288 with 1 Axes>"
      ]
     },
     "metadata": {},
     "output_type": "display_data"
    },
    {
     "data": {
      "image/png": "[encoded data removed]",
      "text/plain": [
       "<Figure size 432x288 with 1 Axes>"
      ]
     },
     "metadata": {},
     "output_type": "display_data"
    },
    {
     "data": {
      "image/png": "[encoded data removed]",
      "text/plain": [
       "<Figure size 432x288 with 1 Axes>"
      ]
     },
     "metadata": {},
     "output_type": "display_data"
    },
    {
     "data": {
      "image/png": "[encoded data removed]",
      "text/plain": [
       "<Figure size 432x288 with 1 Axes>"
      ]
     },
     "metadata": {},
     "output_type": "display_data"
    },
    {
     "data": {
      "image/png": "[encoded data removed]",
      "text/plain": [
       "<Figure size 432x288 with 1 Axes>"
      ]
     },
     "metadata": {},
     "output_type": "display_data"
    },
    {
     "data": {
      "image/png": "[encoded data removed]",
      "text/plain": [
       "<Figure size 432x288 with 1 Axes>"
      ]
     },
     "metadata": {},
     "output_type": "display_data"
    },
    {
     "data": {
      "image/png": "[encoded data removed]",
      "text/plain": [
       "<Figure size 432x288 with 1 Axes>"
      ]
     },
     "metadata": {},
     "output_type": "display_data"
    },
    {
     "data": {
      "image/png": "[encoded data removed]",
      "text/plain": [
       "<Figure size 432x288 with 1 Axes>"
      ]
     },
     "metadata": {},
     "output_type": "display_data"
    }
   ],
   "source": [
    "\n",
    "for c in df.columns:\n",
    "    sns.stripplot(data = df, y =c, jitter = True)\n",
    "    plt.show()"
   ]
  },
  {
   "cell_type": "markdown",
   "metadata": {},
   "source": [
    "From plots above we can see that `Age` features has very few data points with value more than 100. I will be removing those points."
   ]
  },
  {
   "cell_type": "code",
   "execution_count": 15,
   "metadata": {},
   "outputs": [],
   "source": [
    "# remove records with `Age` more than 100\n",
    "df=df[(df.Age<=100)]"
   ]
  },
  {
   "cell_type": "markdown",
   "metadata": {},
   "source": [
    "**Rate of visit based on Gender**"
   ]
  },
  {
   "cell_type": "code",
   "execution_count": 16,
   "metadata": {},
   "outputs": [
    {
     "data": {
      "text/plain": [
       "<matplotlib.axes._subplots.AxesSubplot at 0x1a29aa9fd0>"
      ]
     },
     "execution_count": 16,
     "metadata": {},
     "output_type": "execute_result"
    },
    {
     "data": {
      "image/png": "[encoded data removed]",
      "text/plain": [
       "<Figure size 432x288 with 1 Axes>"
      ]
     },
     "metadata": {},
     "output_type": "display_data"
    }
   ],
   "source": [
    "pd.value_counts(df['Gender']).plot.bar()"
   ]
  },
  {
   "cell_type": "markdown",
   "metadata": {},
   "source": [
    "We see that women make almost two time the number of appointments made by men."
   ]
  },
  {
   "cell_type": "markdown",
   "metadata": {},
   "source": [
    "**Who plans ahead? (M or F)**"
   ]
  },
  {
   "cell_type": "code",
   "execution_count": 17,
   "metadata": {},
   "outputs": [
    {
     "data": {
      "image/png": "[encoded data removed]",
      "text/plain": [
       "<Figure size 432x288 with 1 Axes>"
      ]
     },
     "metadata": {},
     "output_type": "display_data"
    }
   ],
   "source": [
    "sns.kdeplot(df['wait_time'][df.Gender == 'M'],marker = '*', color = 'b')\n",
    "sns.kdeplot(df['wait_time'][df.Gender == 'F'],marker ='*',color = 'r')\n",
    "plt.title('Waiting Time')\n",
    "plt.xlabel('days before appointment')\n",
    "plt.legend(['M','F'])\n",
    "plt.show()"
   ]
  },
  {
   "cell_type": "markdown",
   "metadata": {},
   "source": [
    "Tendency to plan ahead seems to be similar across genders."
   ]
  },
  {
   "cell_type": "markdown",
   "metadata": {},
   "source": [
    "**Check for class imbalance. **"
   ]
  },
  {
   "cell_type": "code",
   "execution_count": 18,
   "metadata": {},
   "outputs": [
    {
     "data": {
      "text/plain": [
       "<matplotlib.axes._subplots.AxesSubplot at 0x1a2ba85710>"
      ]
     },
     "execution_count": 18,
     "metadata": {},
     "output_type": "execute_result"
    },
    {
     "data": {
      "image/png": "[encoded data removed]",
      "text/plain": [
       "<Figure size 432x288 with 1 Axes>"
      ]
     },
     "metadata": {},
     "output_type": "display_data"
    }
   ],
   "source": [
    "pd.value_counts(df['No-show']).plot.bar()"
   ]
  },
  {
   "cell_type": "markdown",
   "metadata": {},
   "source": [
    "Note: The class is imbalanced. Only about 20% of the appointments are No-shows. Due to this imbalance, `accuracy_score` won't be a good metric. I will be using other metrics like `recall_score` , `AUC` and `f1_score`."
   ]
  },
  {
   "cell_type": "markdown",
   "metadata": {},
   "source": [
    "**Since it is a binary classifiction, and due to the nature of the problem being solved, it will be simple to map the  `label` values (`No-show`) to `1` and `0`.**"
   ]
  },
  {
   "cell_type": "code",
   "execution_count": 19,
   "metadata": {},
   "outputs": [],
   "source": [
    "d={'No':0,'Yes':1}\n",
    "df['No-show']=df['No-show'].replace(d)"
   ]
  },
  {
   "cell_type": "markdown",
   "metadata": {},
   "source": [
    "**Remove unnecessary columns**"
   ]
  },
  {
   "cell_type": "markdown",
   "metadata": {},
   "source": [
    "Since some of the columns are irrelevant for the predictive analysis, they can be removed before going ahead. The columns are :  \n",
    "* `AppointmentDay` and `ScheduledDay` : These 2 columns are unnecessary since we already have `wait-time`.\n",
    "* `PatientId` and `AppointmentID`: These 2 columns have no significance since they are just the indices of the records."
   ]
  },
  {
   "cell_type": "code",
   "execution_count": 20,
   "metadata": {
    "scrolled": true
   },
   "outputs": [],
   "source": [
    "df.drop(columns=['AppointmentDay','ScheduledDay','PatientId','AppointmentID'],inplace=True)"
   ]
  },
  {
   "cell_type": "markdown",
   "metadata": {},
   "source": [
    "**Analysis of the correlation of different features between each other**"
   ]
  },
  {
   "cell_type": "code",
   "execution_count": 21,
   "metadata": {},
   "outputs": [
    {
     "data": {
      "text/html": [
       "<div>\n",
       "<style scoped>\n",
       "    .dataframe tbody tr th:only-of-type {\n",
       "        vertical-align: middle;\n",
       "    }\n",
       "\n",
       "    .dataframe tbody tr th {\n",
       "        vertical-align: top;\n",
       "    }\n",
       "\n",
       "    .dataframe thead th {\n",
       "        text-align: right;\n",
       "    }\n",
       "</style>\n",
       "<table border=\"1\" class=\"dataframe\">\n",
       "  <thead>\n",
       "    <tr style=\"text-align: right;\">\n",
       "      <th></th>\n",
       "      <th>Age</th>\n",
       "      <th>Scholarship</th>\n",
       "      <th>Hypertension</th>\n",
       "      <th>Diabetes</th>\n",
       "      <th>Alcoholism</th>\n",
       "      <th>Handicap</th>\n",
       "      <th>SMS_received</th>\n",
       "      <th>No-show</th>\n",
       "      <th>wait_time</th>\n",
       "    </tr>\n",
       "  </thead>\n",
       "  <tbody>\n",
       "    <tr>\n",
       "      <th>Age</th>\n",
       "      <td>1.000000</td>\n",
       "      <td>-0.092427</td>\n",
       "      <td>0.504788</td>\n",
       "      <td>0.292544</td>\n",
       "      <td>0.095877</td>\n",
       "      <td>0.077382</td>\n",
       "      <td>0.012712</td>\n",
       "      <td>-0.060476</td>\n",
       "      <td>0.032726</td>\n",
       "    </tr>\n",
       "    <tr>\n",
       "      <th>Scholarship</th>\n",
       "      <td>-0.092427</td>\n",
       "      <td>1.000000</td>\n",
       "      <td>-0.019734</td>\n",
       "      <td>-0.024900</td>\n",
       "      <td>0.035018</td>\n",
       "      <td>-0.008521</td>\n",
       "      <td>0.001184</td>\n",
       "      <td>0.029147</td>\n",
       "      <td>-0.030080</td>\n",
       "    </tr>\n",
       "    <tr>\n",
       "      <th>Hypertension</th>\n",
       "      <td>0.504788</td>\n",
       "      <td>-0.019734</td>\n",
       "      <td>1.000000</td>\n",
       "      <td>0.433095</td>\n",
       "      <td>0.087971</td>\n",
       "      <td>0.080248</td>\n",
       "      <td>-0.006315</td>\n",
       "      <td>-0.035677</td>\n",
       "      <td>-0.018763</td>\n",
       "    </tr>\n",
       "    <tr>\n",
       "      <th>Diabetes</th>\n",
       "      <td>0.292544</td>\n",
       "      <td>-0.024900</td>\n",
       "      <td>0.433095</td>\n",
       "      <td>1.000000</td>\n",
       "      <td>0.018470</td>\n",
       "      <td>0.057628</td>\n",
       "      <td>-0.014559</td>\n",
       "      <td>-0.015172</td>\n",
       "      <td>-0.028086</td>\n",
       "    </tr>\n",
       "    <tr>\n",
       "      <th>Alcoholism</th>\n",
       "      <td>0.095877</td>\n",
       "      <td>0.035018</td>\n",
       "      <td>0.087971</td>\n",
       "      <td>0.018470</td>\n",
       "      <td>1.000000</td>\n",
       "      <td>0.004689</td>\n",
       "      <td>-0.026153</td>\n",
       "      <td>-0.000191</td>\n",
       "      <td>-0.037825</td>\n",
       "    </tr>\n",
       "    <tr>\n",
       "      <th>Handicap</th>\n",
       "      <td>0.077382</td>\n",
       "      <td>-0.008521</td>\n",
       "      <td>0.080248</td>\n",
       "      <td>0.057628</td>\n",
       "      <td>0.004689</td>\n",
       "      <td>1.000000</td>\n",
       "      <td>-0.024028</td>\n",
       "      <td>-0.006382</td>\n",
       "      <td>-0.019560</td>\n",
       "    </tr>\n",
       "    <tr>\n",
       "      <th>SMS_received</th>\n",
       "      <td>0.012712</td>\n",
       "      <td>0.001184</td>\n",
       "      <td>-0.006315</td>\n",
       "      <td>-0.014559</td>\n",
       "      <td>-0.026153</td>\n",
       "      <td>-0.024028</td>\n",
       "      <td>1.000000</td>\n",
       "      <td>0.126472</td>\n",
       "      <td>0.388198</td>\n",
       "    </tr>\n",
       "    <tr>\n",
       "      <th>No-show</th>\n",
       "      <td>-0.060476</td>\n",
       "      <td>0.029147</td>\n",
       "      <td>-0.035677</td>\n",
       "      <td>-0.015172</td>\n",
       "      <td>-0.000191</td>\n",
       "      <td>-0.006382</td>\n",
       "      <td>0.126472</td>\n",
       "      <td>1.000000</td>\n",
       "      <td>0.180077</td>\n",
       "    </tr>\n",
       "    <tr>\n",
       "      <th>wait_time</th>\n",
       "      <td>0.032726</td>\n",
       "      <td>-0.030080</td>\n",
       "      <td>-0.018763</td>\n",
       "      <td>-0.028086</td>\n",
       "      <td>-0.037825</td>\n",
       "      <td>-0.019560</td>\n",
       "      <td>0.388198</td>\n",
       "      <td>0.180077</td>\n",
       "      <td>1.000000</td>\n",
       "    </tr>\n",
       "  </tbody>\n",
       "</table>\n",
       "</div>"
      ],
      "text/plain": [
       "                   Age  Scholarship  Hypertension  Diabetes  Alcoholism  \\\n",
       "Age           1.000000    -0.092427      0.504788  0.292544    0.095877   \n",
       "Scholarship  -0.092427     1.000000     -0.019734 -0.024900    0.035018   \n",
       "Hypertension  0.504788    -0.019734      1.000000  0.433095    0.087971   \n",
       "Diabetes      0.292544    -0.024900      0.433095  1.000000    0.018470   \n",
       "Alcoholism    0.095877     0.035018      0.087971  0.018470    1.000000   \n",
       "Handicap      0.077382    -0.008521      0.080248  0.057628    0.004689   \n",
       "SMS_received  0.012712     0.001184     -0.006315 -0.014559   -0.026153   \n",
       "No-show      -0.060476     0.029147     -0.035677 -0.015172   -0.000191   \n",
       "wait_time     0.032726    -0.030080     -0.018763 -0.028086   -0.037825   \n",
       "\n",
       "              Handicap  SMS_received   No-show  wait_time  \n",
       "Age           0.077382      0.012712 -0.060476   0.032726  \n",
       "Scholarship  -0.008521      0.001184  0.029147  -0.030080  \n",
       "Hypertension  0.080248     -0.006315 -0.035677  -0.018763  \n",
       "Diabetes      0.057628     -0.014559 -0.015172  -0.028086  \n",
       "Alcoholism    0.004689     -0.026153 -0.000191  -0.037825  \n",
       "Handicap      1.000000     -0.024028 -0.006382  -0.019560  \n",
       "SMS_received -0.024028      1.000000  0.126472   0.388198  \n",
       "No-show      -0.006382      0.126472  1.000000   0.180077  \n",
       "wait_time    -0.019560      0.388198  0.180077   1.000000  "
      ]
     },
     "execution_count": 21,
     "metadata": {},
     "output_type": "execute_result"
    }
   ],
   "source": [
    "df.corr()"
   ]
  },
  {
   "cell_type": "markdown",
   "metadata": {},
   "source": [
    "Note: The correlation between features doesn't seem significant enough. So, I won't be deleting any more features in this step."
   ]
  },
  {
   "cell_type": "markdown",
   "metadata": {},
   "source": [
    "**Split the data into features and labels.**"
   ]
  },
  {
   "cell_type": "code",
   "execution_count": 22,
   "metadata": {},
   "outputs": [],
   "source": [
    "features=df.drop(columns=['No-show'])\n",
    "features_one_hot_encoded=pd.get_dummies(features)\n",
    "labels=df[['No-show']]"
   ]
  },
  {
   "cell_type": "markdown",
   "metadata": {},
   "source": [
    "**Visual representation of the correlation matrix above**"
   ]
  },
  {
   "cell_type": "code",
   "execution_count": 23,
   "metadata": {},
   "outputs": [
    {
     "data": {
      "text/html": [
       "<div>\n",
       "<style scoped>\n",
       "    .dataframe tbody tr th:only-of-type {\n",
       "        vertical-align: middle;\n",
       "    }\n",
       "\n",
       "    .dataframe tbody tr th {\n",
       "        vertical-align: top;\n",
       "    }\n",
       "\n",
       "    .dataframe thead th {\n",
       "        text-align: right;\n",
       "    }\n",
       "</style>\n",
       "<table border=\"1\" class=\"dataframe\">\n",
       "  <thead>\n",
       "    <tr style=\"text-align: right;\">\n",
       "      <th></th>\n",
       "      <th>Age</th>\n",
       "      <th>Scholarship</th>\n",
       "      <th>Hypertension</th>\n",
       "      <th>Diabetes</th>\n",
       "      <th>Alcoholism</th>\n",
       "      <th>Handicap</th>\n",
       "      <th>SMS_received</th>\n",
       "      <th>wait_time</th>\n",
       "    </tr>\n",
       "  </thead>\n",
       "  <tbody>\n",
       "    <tr>\n",
       "      <th>Age</th>\n",
       "      <td>1.000000</td>\n",
       "      <td>-0.092427</td>\n",
       "      <td>0.504788</td>\n",
       "      <td>0.292544</td>\n",
       "      <td>0.095877</td>\n",
       "      <td>0.077382</td>\n",
       "      <td>0.012712</td>\n",
       "      <td>0.032726</td>\n",
       "    </tr>\n",
       "    <tr>\n",
       "      <th>Scholarship</th>\n",
       "      <td>-0.092427</td>\n",
       "      <td>1.000000</td>\n",
       "      <td>-0.019734</td>\n",
       "      <td>-0.024900</td>\n",
       "      <td>0.035018</td>\n",
       "      <td>-0.008521</td>\n",
       "      <td>0.001184</td>\n",
       "      <td>-0.030080</td>\n",
       "    </tr>\n",
       "    <tr>\n",
       "      <th>Hypertension</th>\n",
       "      <td>0.504788</td>\n",
       "      <td>-0.019734</td>\n",
       "      <td>1.000000</td>\n",
       "      <td>0.433095</td>\n",
       "      <td>0.087971</td>\n",
       "      <td>0.080248</td>\n",
       "      <td>-0.006315</td>\n",
       "      <td>-0.018763</td>\n",
       "    </tr>\n",
       "    <tr>\n",
       "      <th>Diabetes</th>\n",
       "      <td>0.292544</td>\n",
       "      <td>-0.024900</td>\n",
       "      <td>0.433095</td>\n",
       "      <td>1.000000</td>\n",
       "      <td>0.018470</td>\n",
       "      <td>0.057628</td>\n",
       "      <td>-0.014559</td>\n",
       "      <td>-0.028086</td>\n",
       "    </tr>\n",
       "    <tr>\n",
       "      <th>Alcoholism</th>\n",
       "      <td>0.095877</td>\n",
       "      <td>0.035018</td>\n",
       "      <td>0.087971</td>\n",
       "      <td>0.018470</td>\n",
       "      <td>1.000000</td>\n",
       "      <td>0.004689</td>\n",
       "      <td>-0.026153</td>\n",
       "      <td>-0.037825</td>\n",
       "    </tr>\n",
       "    <tr>\n",
       "      <th>Handicap</th>\n",
       "      <td>0.077382</td>\n",
       "      <td>-0.008521</td>\n",
       "      <td>0.080248</td>\n",
       "      <td>0.057628</td>\n",
       "      <td>0.004689</td>\n",
       "      <td>1.000000</td>\n",
       "      <td>-0.024028</td>\n",
       "      <td>-0.019560</td>\n",
       "    </tr>\n",
       "    <tr>\n",
       "      <th>SMS_received</th>\n",
       "      <td>0.012712</td>\n",
       "      <td>0.001184</td>\n",
       "      <td>-0.006315</td>\n",
       "      <td>-0.014559</td>\n",
       "      <td>-0.026153</td>\n",
       "      <td>-0.024028</td>\n",
       "      <td>1.000000</td>\n",
       "      <td>0.388198</td>\n",
       "    </tr>\n",
       "    <tr>\n",
       "      <th>wait_time</th>\n",
       "      <td>0.032726</td>\n",
       "      <td>-0.030080</td>\n",
       "      <td>-0.018763</td>\n",
       "      <td>-0.028086</td>\n",
       "      <td>-0.037825</td>\n",
       "      <td>-0.019560</td>\n",
       "      <td>0.388198</td>\n",
       "      <td>1.000000</td>\n",
       "    </tr>\n",
       "  </tbody>\n",
       "</table>\n",
       "</div>"
      ],
      "text/plain": [
       "                   Age  Scholarship  Hypertension  Diabetes  Alcoholism  \\\n",
       "Age           1.000000    -0.092427      0.504788  0.292544    0.095877   \n",
       "Scholarship  -0.092427     1.000000     -0.019734 -0.024900    0.035018   \n",
       "Hypertension  0.504788    -0.019734      1.000000  0.433095    0.087971   \n",
       "Diabetes      0.292544    -0.024900      0.433095  1.000000    0.018470   \n",
       "Alcoholism    0.095877     0.035018      0.087971  0.018470    1.000000   \n",
       "Handicap      0.077382    -0.008521      0.080248  0.057628    0.004689   \n",
       "SMS_received  0.012712     0.001184     -0.006315 -0.014559   -0.026153   \n",
       "wait_time     0.032726    -0.030080     -0.018763 -0.028086   -0.037825   \n",
       "\n",
       "              Handicap  SMS_received  wait_time  \n",
       "Age           0.077382      0.012712   0.032726  \n",
       "Scholarship  -0.008521      0.001184  -0.030080  \n",
       "Hypertension  0.080248     -0.006315  -0.018763  \n",
       "Diabetes      0.057628     -0.014559  -0.028086  \n",
       "Alcoholism    0.004689     -0.026153  -0.037825  \n",
       "Handicap      1.000000     -0.024028  -0.019560  \n",
       "SMS_received -0.024028      1.000000   0.388198  \n",
       "wait_time    -0.019560      0.388198   1.000000  "
      ]
     },
     "execution_count": 23,
     "metadata": {},
     "output_type": "execute_result"
    }
   ],
   "source": [
    "features.corr()"
   ]
  },
  {
   "cell_type": "code",
   "execution_count": 24,
   "metadata": {},
   "outputs": [
    {
     "data": {
      "text/plain": [
       "<matplotlib.image.AxesImage at 0x1a29127438>"
      ]
     },
     "execution_count": 24,
     "metadata": {},
     "output_type": "execute_result"
    },
    {
     "data": {
      "image/png": "[encoded data removed]",
      "text/plain": [
       "<Figure size 288x288 with 1 Axes>"
      ]
     },
     "metadata": {},
     "output_type": "display_data"
    }
   ],
   "source": [
    "plt.matshow(pd.DataFrame(features.corr()))"
   ]
  },
  {
   "cell_type": "markdown",
   "metadata": {},
   "source": [
    "## Benchmark model"
   ]
  },
  {
   "cell_type": "markdown",
   "metadata": {},
   "source": [
    "A decision tree classifier is used as a benchmark model. It is a simple model. It doen't need a lot of data preprocessing. "
   ]
  },
  {
   "cell_type": "code",
   "execution_count": 25,
   "metadata": {},
   "outputs": [],
   "source": [
    "X_train, X_test, y_train, y_test  = train_test_split(features_one_hot_encoded, labels, test_size=0.2,random_state=1)\n"
   ]
  },
  {
   "cell_type": "code",
   "execution_count": 26,
   "metadata": {},
   "outputs": [
    {
     "data": {
      "text/plain": [
       "DecisionTreeClassifier(class_weight=None, criterion='gini', max_depth=None,\n",
       "            max_features=None, max_leaf_nodes=None,\n",
       "            min_impurity_decrease=0.0, min_impurity_split=None,\n",
       "            min_samples_leaf=1, min_samples_split=2,\n",
       "            min_weight_fraction_leaf=0.0, presort=False, random_state=None,\n",
       "            splitter='best')"
      ]
     },
     "execution_count": 26,
     "metadata": {},
     "output_type": "execute_result"
    }
   ],
   "source": [
    "model= DecisionTreeClassifier()\n",
    "model.fit(X_train,y_train)\n",
    "y_pred= model.predict(X_test)\n",
    "model"
   ]
  },
  {
   "cell_type": "code",
   "execution_count": 27,
   "metadata": {},
   "outputs": [
    {
     "name": "stdout",
     "output_type": "stream",
     "text": [
      "f1_score: 0.305813385442\n",
      "accuracy: 0.742851972494\n",
      "roc_auc : 0.570799812985\n",
      "recall  : 0.285714285714\n"
     ]
    }
   ],
   "source": [
    "print(\"f1_score:\",metrics.f1_score(y_test,y_pred))\n",
    "print(\"accuracy:\",metrics.accuracy_score(y_test,y_pred))\n",
    "print(\"roc_auc :\",metrics.roc_auc_score(y_test,y_pred))\n",
    "print(\"recall  :\",metrics.recall_score(y_test,y_pred))"
   ]
  },
  {
   "cell_type": "code",
   "execution_count": 28,
   "metadata": {},
   "outputs": [
    {
     "data": {
      "text/plain": [
       "<matplotlib.axes._subplots.AxesSubplot at 0x1a29ad1c50>"
      ]
     },
     "execution_count": 28,
     "metadata": {},
     "output_type": "execute_result"
    },
    {
     "data": {
      "image/png": "[encoded data removed]",
      "text/plain": [
       "<Figure size 432x288 with 1 Axes>"
      ]
     },
     "metadata": {},
     "output_type": "display_data"
    }
   ],
   "source": [
    "ax=plt.axes()\n",
    "ax.set_title(\"feature importances\")\n",
    "ax.set_xlabel(\"magnitude of importance\")\n",
    "ax.set_ylabel(\"top 10 features\")\n",
    "pd.Series(model.feature_importances_, index=features_one_hot_encoded.columns).nlargest(10)\\\n",
    ".plot(kind='barh', ax=ax)"
   ]
  },
  {
   "cell_type": "markdown",
   "metadata": {},
   "source": [
    "Note: From the above plot we can see that `Age` and `wait_time` seem to be the most important features. But we should also note that this model does not have good performance.  "
   ]
  },
  {
   "cell_type": "markdown",
   "metadata": {},
   "source": [
    "## Model selection and tuning"
   ]
  },
  {
   "cell_type": "code",
   "execution_count": 29,
   "metadata": {},
   "outputs": [],
   "source": [
    "# scale the dataset using standard scaler. \n",
    "#It will be benificial for some models that will be used. It won't hurt the tree based classifier.\n",
    "#Also, split the data into train(70%), val(15%), test(15%) datasets\n",
    "sc= StandardScaler()\n",
    "features_one_hot_encoded_sc=sc.fit_transform(features_one_hot_encoded)\n",
    "features_one_hot_encoded_sc=pd.DataFrame(features_one_hot_encoded_sc,columns=features_one_hot_encoded.columns)\n",
    "X_train, X_test, y_train, y_test  = train_test_split(features_one_hot_encoded_sc, labels, test_size=0.3,random_state=0)\n",
    "X_val, X_test, y_val, y_test  = train_test_split(X_test, y_test, test_size=0.5,random_state=0)"
   ]
  },
  {
   "cell_type": "markdown",
   "metadata": {},
   "source": [
    "**Decision Tree Classifier**"
   ]
  },
  {
   "cell_type": "code",
   "execution_count": 30,
   "metadata": {},
   "outputs": [],
   "source": [
    "# create the parameter grid for decision tree classifier\n",
    "param_grid = {\n",
    "              'base_estimator__min_samples_split':[2,5],\n",
    "              'base_estimator__max_depth':[None,4,10],\n",
    "              \"n_estimators\": [80],\n",
    "              'base_estimator__class_weight':['balanced']              \n",
    "}"
   ]
  },
  {
   "cell_type": "code",
   "execution_count": 31,
   "metadata": {},
   "outputs": [
    {
     "name": "stdout",
     "output_type": "stream",
     "text": [
      "f1_score: 0.317193675889\n",
      "accuracy: 0.749909518639\n",
      "roc_auc : 0.576925731571\n",
      "recall  : 0.284658587053\n"
     ]
    }
   ],
   "source": [
    "#without grid search\n",
    "ABC_simple = AdaBoostClassifier(DecisionTreeClassifier())\n",
    "ABC_simple.fit(X_train,y_train.values.ravel())\n",
    "y_pred= ABC_simple.predict(X_val)\n",
    "print(\"f1_score:\",metrics.f1_score(y_val,y_pred))\n",
    "print(\"accuracy:\",metrics.accuracy_score(y_val,y_pred))\n",
    "print(\"roc_auc :\",metrics.roc_auc_score(y_val,y_pred))\n",
    "print(\"recall  :\",metrics.recall_score(y_val,y_pred))"
   ]
  },
  {
   "cell_type": "code",
   "execution_count": 32,
   "metadata": {
    "scrolled": true
   },
   "outputs": [
    {
     "name": "stdout",
     "output_type": "stream",
     "text": [
      "Fitting 3 folds for each of 6 candidates, totalling 18 fits\n"
     ]
    },
    {
     "name": "stderr",
     "output_type": "stream",
     "text": [
      "[Parallel(n_jobs=100)]: Done   9 out of  18 | elapsed:   58.3s remaining:   58.3s\n",
      "[Parallel(n_jobs=100)]: Done  18 out of  18 | elapsed:  1.2min finished\n"
     ]
    }
   ],
   "source": [
    "ABC = AdaBoostClassifier(DecisionTreeClassifier())\n",
    "clf=GridSearchCV(ABC, param_grid,n_jobs=100,verbose=1,scoring='roc_auc')\n",
    "_=clf.fit(X_train,y_train.values.ravel())"
   ]
  },
  {
   "cell_type": "code",
   "execution_count": 33,
   "metadata": {},
   "outputs": [
    {
     "data": {
      "text/plain": [
       "{'base_estimator__class_weight': 'balanced',\n",
       " 'base_estimator__max_depth': 4,\n",
       " 'base_estimator__min_samples_split': 5,\n",
       " 'n_estimators': 80}"
      ]
     },
     "execution_count": 33,
     "metadata": {},
     "output_type": "execute_result"
    }
   ],
   "source": [
    "clf.best_params_"
   ]
  },
  {
   "cell_type": "code",
   "execution_count": 34,
   "metadata": {},
   "outputs": [
    {
     "data": {
      "text/plain": [
       "AdaBoostClassifier(algorithm='SAMME.R',\n",
       "          base_estimator=DecisionTreeClassifier(class_weight='balanced', criterion='gini', max_depth=4,\n",
       "            max_features=None, max_leaf_nodes=None,\n",
       "            min_impurity_decrease=0.0, min_impurity_split=None,\n",
       "            min_samples_leaf=1, min_samples_split=5,\n",
       "            min_weight_fraction_leaf=0.0, presort=False, random_state=None,\n",
       "            splitter='best'),\n",
       "          learning_rate=1.0, n_estimators=80, random_state=None)"
      ]
     },
     "execution_count": 34,
     "metadata": {},
     "output_type": "execute_result"
    }
   ],
   "source": [
    "tree_best_model=clf.best_estimator_\n",
    "tree_best_model"
   ]
  },
  {
   "cell_type": "code",
   "execution_count": 35,
   "metadata": {},
   "outputs": [
    {
     "name": "stdout",
     "output_type": "stream",
     "text": [
      "f1_score: 0.477557027226\n",
      "accuracy: 0.651254475654\n",
      "roc_auc : 0.70256279527\n",
      "recall  : 0.788679245283\n"
     ]
    }
   ],
   "source": [
    "#performance on train data\n",
    "model=clf.best_estimator_\n",
    "y_pred= model.predict(X_train)\n",
    "print(\"f1_score:\",metrics.f1_score(y_train,y_pred))\n",
    "print(\"accuracy:\",metrics.accuracy_score(y_train,y_pred))\n",
    "print(\"roc_auc :\",metrics.roc_auc_score(y_train,y_pred))\n",
    "print(\"recall  :\",metrics.recall_score(y_train,y_pred))"
   ]
  },
  {
   "cell_type": "code",
   "execution_count": 36,
   "metadata": {},
   "outputs": [
    {
     "name": "stdout",
     "output_type": "stream",
     "text": [
      "f1_score: 0.439610037913\n",
      "accuracy: 0.625527807938\n",
      "roc_auc : 0.660569750207\n",
      "recall  : 0.719775347325\n"
     ]
    }
   ],
   "source": [
    "#performance on val data\n",
    "model=clf.best_estimator_\n",
    "y_pred= model.predict(X_val)\n",
    "print(\"f1_score:\",metrics.f1_score(y_val,y_pred))\n",
    "print(\"accuracy:\",metrics.accuracy_score(y_val,y_pred))\n",
    "print(\"roc_auc :\",metrics.roc_auc_score(y_val,y_pred))\n",
    "print(\"recall  :\",metrics.recall_score(y_val,y_pred))"
   ]
  },
  {
   "cell_type": "code",
   "execution_count": 37,
   "metadata": {},
   "outputs": [
    {
     "name": "stdout",
     "output_type": "stream",
     "text": [
      "f1_score: 0.434566994214\n",
      "accuracy: 0.628604174207\n",
      "roc_auc : 0.661977846194\n",
      "recall  : 0.717404487568\n"
     ]
    }
   ],
   "source": [
    "#performance on test data\n",
    "model=clf.best_estimator_\n",
    "y_pred= model.predict(X_test)\n",
    "print(\"f1_score:\",metrics.f1_score(y_test,y_pred))\n",
    "print(\"accuracy:\",metrics.accuracy_score(y_test,y_pred))\n",
    "print(\"roc_auc :\",metrics.roc_auc_score(y_test,y_pred))\n",
    "print(\"recall  :\",metrics.recall_score(y_test,y_pred))"
   ]
  },
  {
   "cell_type": "markdown",
   "metadata": {},
   "source": [
    "**Logistic Regression classifier**"
   ]
  },
  {
   "cell_type": "code",
   "execution_count": 38,
   "metadata": {},
   "outputs": [],
   "source": [
    "# create the parameter grid for logistic regression\n",
    "param_grid = {'base_estimator__C':[0.01,0.1,1,10,100],\n",
    "                           \"n_estimators\": [80,160],\n",
    "              'base_estimator__class_weight':['balanced'],\n",
    "             }"
   ]
  },
  {
   "cell_type": "code",
   "execution_count": 39,
   "metadata": {},
   "outputs": [
    {
     "name": "stdout",
     "output_type": "stream",
     "text": [
      "f1_score: 0.0316027088036\n",
      "accuracy: 0.792978646399\n",
      "roc_auc : 0.504297897664\n",
      "recall  : 0.0165533550103\n"
     ]
    }
   ],
   "source": [
    "ABC_simple = AdaBoostClassifier(LogisticRegression())\n",
    "ABC_simple.fit(X_train,y_train.values.ravel())\n",
    "y_pred= ABC_simple.predict(X_val)\n",
    "print(\"f1_score:\",metrics.f1_score(y_val,y_pred))\n",
    "print(\"accuracy:\",metrics.accuracy_score(y_val,y_pred))\n",
    "print(\"roc_auc :\",metrics.roc_auc_score(y_val,y_pred))\n",
    "print(\"recall  :\",metrics.recall_score(y_val,y_pred))"
   ]
  },
  {
   "cell_type": "code",
   "execution_count": 40,
   "metadata": {
    "scrolled": true
   },
   "outputs": [
    {
     "name": "stdout",
     "output_type": "stream",
     "text": [
      "Fitting 3 folds for each of 10 candidates, totalling 30 fits\n"
     ]
    },
    {
     "name": "stderr",
     "output_type": "stream",
     "text": [
      "[Parallel(n_jobs=100)]: Done  17 out of  30 | elapsed:  4.9min remaining:  3.7min\n",
      "[Parallel(n_jobs=100)]: Done  30 out of  30 | elapsed:  5.5min finished\n"
     ]
    },
    {
     "data": {
      "text/plain": [
       "GridSearchCV(cv=None, error_score='raise',\n",
       "       estimator=AdaBoostClassifier(algorithm='SAMME.R',\n",
       "          base_estimator=LogisticRegression(C=1.0, class_weight=None, dual=False, fit_intercept=True,\n",
       "          intercept_scaling=1, max_iter=100, multi_class='ovr', n_jobs=1,\n",
       "          penalty='l2', random_state=None, solver='liblinear', tol=0.0001,\n",
       "          verbose=0, warm_start=False),\n",
       "          learning_rate=1.0, n_estimators=50, random_state=None),\n",
       "       fit_params=None, iid=True, n_jobs=100,\n",
       "       param_grid={'base_estimator__C': [0.01, 0.1, 1, 10, 100], 'n_estimators': [80, 160], 'base_estimator__class_weight': ['balanced']},\n",
       "       pre_dispatch='2*n_jobs', refit=True, return_train_score='warn',\n",
       "       scoring='roc_auc', verbose=1)"
      ]
     },
     "execution_count": 40,
     "metadata": {},
     "output_type": "execute_result"
    }
   ],
   "source": [
    "ABC = AdaBoostClassifier(LogisticRegression())\n",
    "clf=GridSearchCV(ABC, param_grid,n_jobs=100,verbose=1,scoring='roc_auc')\n",
    "clf.fit(X_train,y_train.values.ravel())"
   ]
  },
  {
   "cell_type": "code",
   "execution_count": 41,
   "metadata": {},
   "outputs": [
    {
     "data": {
      "text/plain": [
       "{'base_estimator__C': 0.1,\n",
       " 'base_estimator__class_weight': 'balanced',\n",
       " 'n_estimators': 80}"
      ]
     },
     "execution_count": 41,
     "metadata": {},
     "output_type": "execute_result"
    }
   ],
   "source": [
    "clf.best_params_"
   ]
  },
  {
   "cell_type": "code",
   "execution_count": 42,
   "metadata": {},
   "outputs": [
    {
     "data": {
      "text/plain": [
       "AdaBoostClassifier(algorithm='SAMME.R',\n",
       "          base_estimator=LogisticRegression(C=0.1, class_weight='balanced', dual=False,\n",
       "          fit_intercept=True, intercept_scaling=1, max_iter=100,\n",
       "          multi_class='ovr', n_jobs=1, penalty='l2', random_state=None,\n",
       "          solver='liblinear', tol=0.0001, verbose=0, warm_start=False),\n",
       "          learning_rate=1.0, n_estimators=80, random_state=None)"
      ]
     },
     "execution_count": 42,
     "metadata": {},
     "output_type": "execute_result"
    }
   ],
   "source": [
    "logistic_regression_best_model=clf.best_estimator_\n",
    "logistic_regression_best_model"
   ]
  },
  {
   "cell_type": "code",
   "execution_count": 43,
   "metadata": {},
   "outputs": [
    {
     "name": "stdout",
     "output_type": "stream",
     "text": [
      "f1_score: 0.399475700746\n",
      "accuracy: 0.640728676559\n",
      "roc_auc : 0.620222101077\n",
      "recall  : 0.585574933491\n"
     ]
    }
   ],
   "source": [
    "model=clf.best_estimator_\n",
    "y_pred= model.predict(X_val)\n",
    "print(\"f1_score:\",metrics.f1_score(y_val,y_pred))\n",
    "print(\"accuracy:\",metrics.accuracy_score(y_val,y_pred))\n",
    "print(\"roc_auc :\",metrics.roc_auc_score(y_val,y_pred))\n",
    "print(\"recall  :\",metrics.recall_score(y_val,y_pred))"
   ]
  },
  {
   "cell_type": "markdown",
   "metadata": {},
   "source": [
    "## PCA"
   ]
  },
  {
   "cell_type": "code",
   "execution_count": 44,
   "metadata": {},
   "outputs": [],
   "source": [
    "from sklearn.decomposition import PCA"
   ]
  },
  {
   "cell_type": "code",
   "execution_count": 45,
   "metadata": {},
   "outputs": [
    {
     "data": {
      "text/plain": [
       "PCA(copy=True, iterated_power='auto', n_components=None, random_state=None,\n",
       "  svd_solver='auto', tol=0.0, whiten=False)"
      ]
     },
     "execution_count": 45,
     "metadata": {},
     "output_type": "execute_result"
    }
   ],
   "source": [
    "pca= PCA()\n",
    "pca.fit(features_one_hot_encoded_sc)"
   ]
  },
  {
   "cell_type": "code",
   "execution_count": 46,
   "metadata": {},
   "outputs": [
    {
     "data": {
      "text/plain": [
       "0.99999999999999956"
      ]
     },
     "execution_count": 46,
     "metadata": {},
     "output_type": "execute_result"
    }
   ],
   "source": [
    "sum(pca.explained_variance_ratio_)"
   ]
  },
  {
   "cell_type": "markdown",
   "metadata": {},
   "source": [
    "Note: Since "
   ]
  },
  {
   "cell_type": "code",
   "execution_count": 47,
   "metadata": {},
   "outputs": [
    {
     "data": {
      "text/plain": [
       "array([ 0.02343398,  0.04403413,  0.06086324,  0.07435248,  0.08648772,\n",
       "        0.0983879 ,  0.11012177,  0.12162805,  0.13309034,  0.14448606,\n",
       "        0.15584775,  0.1671883 ,  0.17851479,  0.18980813,  0.20109087,\n",
       "        0.21236597,  0.22362117,  0.23487464,  0.24611744,  0.25734957,\n",
       "        0.2685748 ,  0.27979394,  0.29100904,  0.30221451,  0.31341851,\n",
       "        0.32461278,  0.3358013 ,  0.34698203,  0.35815625,  0.36932132,\n",
       "        0.38047446,  0.39162367,  0.40276874,  0.41390166,  0.42503086,\n",
       "        0.43615154,  0.4472711 ,  0.45837808,  0.46948344,  0.48058245,\n",
       "        0.49167946,  0.50277033,  0.51385295,  0.52493071,  0.53600619,\n",
       "        0.54708015,  0.55815369,  0.5692243 ,  0.58028887,  0.59135105,\n",
       "        0.60241227,  0.61346735,  0.62451472,  0.63555935,  0.64660159,\n",
       "        0.6576422 ,  0.66868033,  0.67971738,  0.69075247,  0.70178497,\n",
       "        0.71281655,  0.72384614,  0.73487053,  0.74589313,  0.75691465,\n",
       "        0.76793528,  0.7789525 ,  0.78996846,  0.80098319,  0.81199338,\n",
       "        0.82300144,  0.8340079 ,  0.84501155,  0.85601299,  0.86701299,\n",
       "        0.8780096 ,  0.88900381,  0.89999421,  0.9109836 ,  0.92197288,\n",
       "        0.93295121,  0.94371196,  0.954328  ,  0.96440042,  0.97395782,\n",
       "        0.98242037,  0.98945854,  0.99554203,  1.        ,  1.        ,  1.        ])"
      ]
     },
     "execution_count": 47,
     "metadata": {},
     "output_type": "execute_result"
    }
   ],
   "source": [
    "pca.explained_variance_ratio_.cumsum()"
   ]
  },
  {
   "cell_type": "code",
   "execution_count": null,
   "metadata": {},
   "outputs": [],
   "source": []
  }
 ],
 "metadata": {
  "kernelspec": {
   "display_name": "Python 3",
   "language": "python",
   "name": "python3"
  },
  "language_info": {
   "codemirror_mode": {
    "name": "ipython",
    "version": 3
   },
   "file_extension": ".py",
   "mimetype": "text/x-python",
   "name": "python",
   "nbconvert_exporter": "python",
   "pygments_lexer": "ipython3",
   "version": "3.6.5"
  }
 },
 "nbformat": 4,
 "nbformat_minor": 2
}
